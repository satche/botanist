{
 "cells": [
  {
   "cell_type": "code",
   "execution_count": null,
   "metadata": {},
   "outputs": [],
   "source": [
    "import os\n",
    "\n",
    "import numpy as np\n",
    "\n",
    "import tensorflow as tf\n",
    "import tensorflow.keras as keras\n",
    "import matplotlib.pyplot as plt\n",
    "\n",
    "import sklearn.model_selection as skms\n",
    "import sklearn.preprocessing as skp\n",
    "import sklearn.utils as sku"
   ]
  },
  {
   "cell_type": "code",
   "execution_count": null,
   "metadata": {},
   "outputs": [],
   "source": [
    "WORD_DATA_PATH = \"./herbier/data_public/words/\"\n",
    "METADATA_PATH = \"./herbier/data_public/ascii/words.txt\"\n",
    "\n",
    "IMAGE_HEIGHT = IMAGE_WIDTH = 128\n",
    "\n",
    "DEBUG = True"
   ]
  },
  {
   "cell_type": "markdown",
   "metadata": {},
   "source": [
    "## TODO\n",
    "- voir pour ignorer le fichier METADATA\n",
    "- limiter le nombre de sample à sélectionner"
   ]
  },
  {
   "cell_type": "code",
   "execution_count": null,
   "metadata": {},
   "outputs": [],
   "source": [
    "def load_words_data(data_path, metadata_path):\n",
    "    data = []\n",
    "\n",
    "    with open(metadata_path, 'r') as file:\n",
    "        for line in file:\n",
    "            if not line.startswith(\"#\"):\n",
    "                components = line.strip().split(' ')\n",
    "                word_id = components[0]\n",
    "                \n",
    "                parts = word_id.split('-')\n",
    "                writer_id = '-'.join(parts[:2])  # e.g., 'a01-000u'\n",
    "                image_subfolder = parts[0]       # e.g., 'a01'\n",
    "                image_filename = f\"{word_id}.png\"\n",
    "                image_path = os.path.join(data_path, image_subfolder, writer_id, image_filename)\n",
    "                \n",
    "                if os.path.exists(image_path):\n",
    "                    try:\n",
    "                        img = tf.io.read_file(image_path)\n",
    "                        img = tf.image.decode_png(img)\n",
    "                        data.append({\n",
    "                            'image_path': image_path,\n",
    "                            'writer_id': writer_id,  # Label = writer ID\n",
    "                            'image_array': img\n",
    "                        })\n",
    "                    except tf.errors.InvalidArgumentError:\n",
    "                        print(f\"Image not found for word ID: {word_id} at {image_path}\")\n",
    "                else:\n",
    "                    print(f\"Image not found for word ID: {word_id} at {image_path}\")\n",
    "\n",
    "    return data\n",
    "\n",
    "words_data = load_words_data(WORD_DATA_PATH, METADATA_PATH)\n",
    "\n",
    "if DEBUG:\n",
    "  print(f\"Loaded {len(words_data)} words.\")\n",
    "  for entry in words_data[:5]:\n",
    "      print(f\"  Writer ID: {entry['writer_id']}; image shape: {entry['image_array'].shape}\")\n",
    "\n",
    "if DEBUG: \n",
    "    print(\"number of writers: \", len(set([entry['writer_id'] for entry in words_data])))\n",
    "\n",
    "if DEBUG:\n",
    "  plt.figure(figsize=(10, 10))\n",
    "  for i in range(25):\n",
    "      plt.subplot(5, 5, i + 1)\n",
    "      plt.xticks([])\n",
    "      plt.yticks([])\n",
    "      plt.grid(False)\n",
    "      plt.imshow(words_data[i]['image_array'], cmap=plt.cm.binary)\n",
    "      plt.xlabel(words_data[i]['writer_id'])\n",
    "  plt.show()\n"
   ]
  },
  {
   "cell_type": "code",
   "execution_count": null,
   "metadata": {},
   "outputs": [],
   "source": [
    "# preprocessing data\n",
    "\n",
    "def preprocess_data(data):\n",
    "    labels = []\n",
    "    images = []\n",
    "\n",
    "    for entry in data:\n",
    "        # Resize the image\n",
    "        img = tf.image.resize(entry['image_array'], [IMAGE_HEIGHT, IMAGE_WIDTH])\n",
    "\n",
    "        img = img.numpy().astype('float32') / 255.0  # Normalize and convert to float32\n",
    "        images.append(img)\n",
    "\n",
    "        labels.append(entry['writer_id'])\n",
    "\n",
    "    return np.array(images), np.array(labels)\n",
    "\n",
    "\n",
    "images, labels = preprocess_data(words_data)\n",
    "\n",
    "X_train, X_test, y_train, y_test = skms.train_test_split(images, labels, test_size=0.2, random_state=42)\n",
    "\n",
    "if DEBUG:\n",
    "    print(f\"X_train: {X_train.shape}; y_train: {y_train.shape}\")\n",
    "    print(f\"X_test: {X_test.shape}; y_test: {y_test.shape}\")"
   ]
  },
  {
   "cell_type": "code",
   "execution_count": null,
   "metadata": {},
   "outputs": [],
   "source": [
    "# encode labels\n",
    "\n",
    "label_encoder = skp.LabelEncoder()\n",
    "integer_encoded_labels = label_encoder.fit_transform(labels)\n",
    "one_hot_encoded_labels = keras.utils.to_categorical(integer_encoded_labels)\n",
    "\n",
    "X_train, X_test, y_train, y_test = skms.train_test_split(images, one_hot_encoded_labels, test_size=0.2, random_state=42)\n",
    "\n",
    "if DEBUG:\n",
    "    print(f\"X_train: {X_train.shape}; y_train: {y_train.shape}\")\n",
    "    print(f\"X_test: {X_test.shape}; y_test: {y_test.shape}\")"
   ]
  }
 ],
 "metadata": {
  "kernelspec": {
   "display_name": "base",
   "language": "python",
   "name": "python3"
  },
  "language_info": {
   "codemirror_mode": {
    "name": "ipython",
    "version": 3
   },
   "file_extension": ".py",
   "mimetype": "text/x-python",
   "name": "python",
   "nbconvert_exporter": "python",
   "pygments_lexer": "ipython3",
   "version": "3.10.9"
  }
 },
 "nbformat": 4,
 "nbformat_minor": 2
}
