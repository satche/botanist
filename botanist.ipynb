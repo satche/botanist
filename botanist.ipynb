{
  "cells": [
    {
      "cell_type": "markdown",
      "metadata": {
        "id": "dM4cyQ4hqSDq"
      },
      "source": [
        "\n",
        "# Botanist\n",
        "An academical projet to recognise and classify writings from botanists\n",
        "\n",
        "Github repo: [github.com/satche/botanist](https://github.com/satche/botanist/)"
      ]
    },
    {
      "cell_type": "markdown",
      "metadata": {
        "id": "66eiGtb0GyxL"
      },
      "source": [
        "## Get the data\n",
        "\n",
        "First, we'll unzip raw data of different botanists notebooks. There is a lot of images, so run it and go grab a coffee. We'll connect to your Google Drive so we can save some results and output. Make sure to change the directory according to your folder structure.\n",
        "\n",
        "*Note: the training data won't be stored in your drive as it's heavy*"
      ]
    },
    {
      "cell_type": "code",
      "execution_count": null,
      "metadata": {
        "colab": {
          "base_uri": "https://localhost:8080/"
        },
        "id": "rYVUbwiGqLXh",
        "outputId": "e41918db-2796-4632-80a3-8ee99ab17a1a"
      },
      "outputs": [],
      "source": [
        "import os\n",
        "# from google.colab import drive\n",
        "# drive.mount('/content/drive/', force_remount=True)\n",
        "# GDRIVE_PATH = \"/content/drive/My Drive/Colab/Botanist\""
      ]
    },
    {
      "cell_type": "code",
      "execution_count": null,
      "metadata": {
        "colab": {
          "base_uri": "https://localhost:8080/"
        },
        "id": "dWdTZKIkGO2Q",
        "outputId": "f1c598cb-5c27-49bf-b4a3-452ce26660cc"
      },
      "outputs": [],
      "source": [
        "# !mkdir \"/data/\"\n",
        "# !unzip herbier.zip -d \"/data/\""
      ]
    },
    {
      "cell_type": "code",
      "execution_count": null,
      "metadata": {
        "colab": {
          "base_uri": "https://localhost:8080/"
        },
        "id": "ut5d6GesL8pI",
        "outputId": "0cf2d916-b3f8-48dd-908b-f9f116f220b9"
      },
      "outputs": [],
      "source": [
        "# data_public = os.listdir('./herbier/data_public/')\n",
        "# data_neuchatel = os.listdir('./herbier/data_neuchatel/')\n",
        "# print(data_public)\n",
        "# print(data_neuchatel)"
      ]
    },
    {
      "cell_type": "code",
      "execution_count": null,
      "metadata": {},
      "outputs": [],
      "source": [
        "# import packages\n",
        "import numpy as np\n",
        "import os\n",
        "import numpy as np\n",
        "from PIL import Image\n"
      ]
    },
    {
      "cell_type": "code",
      "execution_count": null,
      "metadata": {},
      "outputs": [],
      "source": [
        "\n",
        "\n",
        "WORD_DATA_PATH = \"./herbier/data_public/words/\"\n",
        "METADATA_PATH = \"./herbier/data_public/ascii/words.txt\"\n",
        "\n",
        "def load_words_data(data_path, metadata_path):\n",
        "    data = []\n",
        "\n",
        "    with open(metadata_path, 'r') as file:\n",
        "        for line in file:\n",
        "            if not line.startswith(\"#\"):\n",
        "                # a01-000u-00-00 ok 154 408 768 27 51 AT A\n",
        "                components = line.strip().split(' ')\n",
        "                # a01-000u-00-00\n",
        "                word_id = components[0]\n",
        "                # ok\n",
        "                segmentation_result = components[1]\n",
        "                # 154\n",
        "                gray_level = int(components[2])\n",
        "                # 408 768 27 51\n",
        "                bounding_box = tuple(map(int, components[3:7]))\n",
        "                # AT\n",
        "                grammatical_tag = components[7]\n",
        "                # A\n",
        "                transcription = ' '.join(components[8:]) if len(components) > 8 else ''\n",
        "\n",
        "                parts = word_id.split('-')\n",
        "                subfolder = parts[0] + '-' + parts[1]  # a01-000u\n",
        "                image_subfolder = parts[0]  # a01\n",
        "                image_filename = f\"{word_id}.png\"  # a01-000u-00-00.png\n",
        "                image_path = os.path.join(data_path, image_subfolder, subfolder, image_filename)\n",
        "\n",
        "                if os.path.exists(image_path):\n",
        "                    image = Image.open(image_path)\n",
        "                    img_array = np.array(image)\n",
        "                    print(f\"Loaded image for word ID: {word_id} at {image_path};\")\n",
        "                    data.append({\n",
        "                        'word_id': word_id,\n",
        "                        'segmentation_result': segmentation_result,\n",
        "                        'gray_level': gray_level,\n",
        "                        'bounding_box': bounding_box,\n",
        "                        'grammatical_tag': grammatical_tag,\n",
        "                        'transcription': transcription,\n",
        "                        'image_array': img_array  # numpy arraz ? \n",
        "                    })\n",
        "                    image.close()\n",
        "                    \n",
        "                       \n",
        "                else:\n",
        "                    print(f\"Image not found for word ID: {word_id} at {image_path}\")\n",
        "\n",
        "    return data\n",
        "\n",
        "words_data = load_words_data(WORD_DATA_PATH, METADATA_PATH)\n",
        "\n",
        "print(f\"Loaded {len(words_data)} words.\")\n",
        "for entry in words_data[:5]:\n",
        "    print(f\"  {entry['word_id']}: {entry['transcription']}; image shape: {entry['image_array'].shape}\")\n",
        "\n"
      ]
    }
  ],
  "metadata": {
    "colab": {
      "provenance": []
    },
    "kernelspec": {
      "display_name": "Python 3",
      "name": "python3"
    },
    "language_info": {
      "codemirror_mode": {
        "name": "ipython",
        "version": 3
      },
      "file_extension": ".py",
      "mimetype": "text/x-python",
      "name": "python",
      "nbconvert_exporter": "python",
      "pygments_lexer": "ipython3",
      "version": "3.10.9"
    }
  },
  "nbformat": 4,
  "nbformat_minor": 0
}
