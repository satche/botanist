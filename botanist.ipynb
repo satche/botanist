{
  "cells": [
    {
      "cell_type": "markdown",
      "metadata": {
        "id": "dM4cyQ4hqSDq"
      },
      "source": [
        "\n",
        "# Botanist\n",
        "An academical projet to recognise and classify writings from botanists\n",
        "\n",
        "Github repo: [github.com/satche/botanist](https://github.com/satche/botanist/)"
      ]
    },
    {
      "cell_type": "markdown",
      "metadata": {
        "id": "66eiGtb0GyxL"
      },
      "source": [
        "## Get the data\n",
        "\n",
        "First, we'll unzip raw data of different botanists notebooks. There is a lot of images, so run it and go grab a coffee. We'll connect to your Google Drive so we can save some results and output. Make sure to change the directory according to your folder structure.\n",
        "\n",
        "*Note: the training data won't be stored in your drive as it's heavy*"
      ]
    },
    {
      "cell_type": "code",
      "execution_count": 1,
      "metadata": {
        "colab": {
          "base_uri": "https://localhost:8080/"
        },
        "id": "rYVUbwiGqLXh",
        "outputId": "ed664de0-59cf-4b6f-e701-b61a2ca907b8"
      },
      "outputs": [
        {
          "output_type": "stream",
          "name": "stdout",
          "text": [
            "Mounted at /content/drive/\n"
          ]
        }
      ],
      "source": [
        "import os\n",
        "from google.colab import drive\n",
        "drive.mount('/content/drive/', force_remount=True)\n",
        "GDRIVE_PATH = \"/content/drive/My Drive/Colab/Botanist\""
      ]
    },
    {
      "cell_type": "code",
      "execution_count": 5,
      "metadata": {
        "colab": {
          "base_uri": "https://localhost:8080/"
        },
        "id": "dWdTZKIkGO2Q",
        "outputId": "5e0ebd94-1f2b-4c1b-e1dd-a5e85789f041"
      },
      "outputs": [
        {
          "output_type": "stream",
          "name": "stdout",
          "text": [
            "mkdir: cannot create directory ‘/content/data/’: File exists\n",
            "Archive:  /content/drive/My Drive/Colab/Botanist/herbier.zip\n",
            "   creating: /content/data/herbier/\n",
            "   creating: /content/data/herbier/articles/\n",
            "  inflating: /content/data/herbier/articles/1-s2.0-S0957417421008848-main.pdf  \n",
            "  inflating: /content/data/herbier/articles/ICMLA2020.pdf  \n",
            "  inflating: /content/data/herbier/articles/Writer_Identification_System_Based_on_Offline_Handwritten_Text_in_Gurumukhi_Script.pdf  \n",
            "   creating: /content/data/herbier/data_neuchatel/\n",
            "   creating: /content/data/herbier/data_neuchatel/Image Chaillet pour reconnaissance écriture/\n",
            "   creating: /content/data/herbier/data_neuchatel/Image Chaillet pour reconnaissance écriture/Autres botanistes/\n",
            "   creating: /content/data/herbier/data_neuchatel/Image Chaillet pour reconnaissance écriture/Autres botanistes/Candolle/\n",
            "  inflating: /content/data/herbier/data_neuchatel/Image Chaillet pour reconnaissance écriture/Autres botanistes/Candolle/NEU000017872.jpg  \n",
            "  inflating: /content/data/herbier/data_neuchatel/Image Chaillet pour reconnaissance écriture/Autres botanistes/Candolle/NEU000028742.jpg  \n",
            "  inflating: /content/data/herbier/data_neuchatel/Image Chaillet pour reconnaissance écriture/Autres botanistes/Candolle/NEU000075630.JPG  \n",
            "  inflating: /content/data/herbier/data_neuchatel/Image Chaillet pour reconnaissance écriture/Autres botanistes/Candolle/NEU000076610.JPG  \n",
            "  inflating: /content/data/herbier/data_neuchatel/Image Chaillet pour reconnaissance écriture/Autres botanistes/Candolle/NEU000091013.JPG  \n",
            "  inflating: /content/data/herbier/data_neuchatel/Image Chaillet pour reconnaissance écriture/Autres botanistes/Candolle/NEU000094541.JPG  \n",
            "  inflating: /content/data/herbier/data_neuchatel/Image Chaillet pour reconnaissance écriture/Autres botanistes/Candolle/NEU000097443.jpg  \n",
            "   creating: /content/data/herbier/data_neuchatel/Image Chaillet pour reconnaissance écriture/Autres botanistes/Curie/\n",
            "  inflating: /content/data/herbier/data_neuchatel/Image Chaillet pour reconnaissance écriture/Autres botanistes/Curie/NEU000003818.JPG  \n",
            "  inflating: /content/data/herbier/data_neuchatel/Image Chaillet pour reconnaissance écriture/Autres botanistes/Curie/NEU000006133.JPG  \n",
            "  inflating: /content/data/herbier/data_neuchatel/Image Chaillet pour reconnaissance écriture/Autres botanistes/Curie/NEU000008267.JPG  \n",
            "  inflating: /content/data/herbier/data_neuchatel/Image Chaillet pour reconnaissance écriture/Autres botanistes/Curie/NEU000029448.jpg  \n",
            "  inflating: /content/data/herbier/data_neuchatel/Image Chaillet pour reconnaissance écriture/Autres botanistes/Curie/NEU000032724.jpg  \n",
            "  inflating: /content/data/herbier/data_neuchatel/Image Chaillet pour reconnaissance écriture/Autres botanistes/Curie/NEU000044065.JPG  \n",
            "  inflating: /content/data/herbier/data_neuchatel/Image Chaillet pour reconnaissance écriture/Autres botanistes/Curie/NEU000065448.JPG  \n",
            "  inflating: /content/data/herbier/data_neuchatel/Image Chaillet pour reconnaissance écriture/Autres botanistes/Curie/NEU000096742.JPG  \n",
            "   creating: /content/data/herbier/data_neuchatel/Image Chaillet pour reconnaissance écriture/Autres botanistes/Gaudin/\n",
            "  inflating: /content/data/herbier/data_neuchatel/Image Chaillet pour reconnaissance écriture/Autres botanistes/Gaudin/NEU000037973.JPG  \n",
            "  inflating: /content/data/herbier/data_neuchatel/Image Chaillet pour reconnaissance écriture/Autres botanistes/Gaudin/NEU000039567.JPG  \n",
            "  inflating: /content/data/herbier/data_neuchatel/Image Chaillet pour reconnaissance écriture/Autres botanistes/Gaudin/NEU000045127.jpg  \n",
            "  inflating: /content/data/herbier/data_neuchatel/Image Chaillet pour reconnaissance écriture/Autres botanistes/Gaudin/NEU000067574.JPG  \n",
            "  inflating: /content/data/herbier/data_neuchatel/Image Chaillet pour reconnaissance écriture/Autres botanistes/Gaudin/NEU000071639.JPG  \n",
            "  inflating: /content/data/herbier/data_neuchatel/Image Chaillet pour reconnaissance écriture/Autres botanistes/Gaudin/NEU000071928.JPG  \n",
            "  inflating: /content/data/herbier/data_neuchatel/Image Chaillet pour reconnaissance écriture/Autres botanistes/Gaudin/NEU000072840.JPG  \n",
            "   creating: /content/data/herbier/data_neuchatel/Image Chaillet pour reconnaissance écriture/Autres botanistes/Gay/\n",
            "  inflating: /content/data/herbier/data_neuchatel/Image Chaillet pour reconnaissance écriture/Autres botanistes/Gay/NEU000004299.JPG  \n",
            "  inflating: /content/data/herbier/data_neuchatel/Image Chaillet pour reconnaissance écriture/Autres botanistes/Gay/NEU000030389.JPG  \n",
            "  inflating: /content/data/herbier/data_neuchatel/Image Chaillet pour reconnaissance écriture/Autres botanistes/Gay/NEU000031246.jpg  \n",
            "  inflating: /content/data/herbier/data_neuchatel/Image Chaillet pour reconnaissance écriture/Autres botanistes/Gay/NEU000043535.jpg  \n",
            "   creating: /content/data/herbier/data_neuchatel/Image Chaillet pour reconnaissance écriture/Autres botanistes/Godet/\n",
            "  inflating: /content/data/herbier/data_neuchatel/Image Chaillet pour reconnaissance écriture/Autres botanistes/Godet/NEU000004094.JPG  \n",
            "  inflating: /content/data/herbier/data_neuchatel/Image Chaillet pour reconnaissance écriture/Autres botanistes/Godet/NEU000007654.JPG  \n",
            "  inflating: /content/data/herbier/data_neuchatel/Image Chaillet pour reconnaissance écriture/Autres botanistes/Godet/NEU000008469.JPG  \n",
            "   creating: /content/data/herbier/data_neuchatel/Image Chaillet pour reconnaissance écriture/Autres botanistes/Haller f/\n",
            "  inflating: /content/data/herbier/data_neuchatel/Image Chaillet pour reconnaissance écriture/Autres botanistes/Haller f/NEU000009489.JPG  \n",
            "  inflating: /content/data/herbier/data_neuchatel/Image Chaillet pour reconnaissance écriture/Autres botanistes/Haller f/NEU000010526.JPG  \n",
            "  inflating: /content/data/herbier/data_neuchatel/Image Chaillet pour reconnaissance écriture/Autres botanistes/Haller f/NEU000012900.JPG  \n",
            "  inflating: /content/data/herbier/data_neuchatel/Image Chaillet pour reconnaissance écriture/Autres botanistes/Haller f/NEU000013875.JPG  \n",
            "  inflating: /content/data/herbier/data_neuchatel/Image Chaillet pour reconnaissance écriture/Autres botanistes/Haller f/NEU000014645.JPG  \n",
            "  inflating: /content/data/herbier/data_neuchatel/Image Chaillet pour reconnaissance écriture/Autres botanistes/Haller f/NEU000022551.jpg  \n",
            "  inflating: /content/data/herbier/data_neuchatel/Image Chaillet pour reconnaissance écriture/Autres botanistes/Haller f/NEU000024869.JPG  \n",
            "  inflating: /content/data/herbier/data_neuchatel/Image Chaillet pour reconnaissance écriture/Autres botanistes/Haller f/NEU000031700.jpg  \n",
            "  inflating: /content/data/herbier/data_neuchatel/Image Chaillet pour reconnaissance écriture/Autres botanistes/Haller f/NEU000032377.jpg  \n",
            "  inflating: /content/data/herbier/data_neuchatel/Image Chaillet pour reconnaissance écriture/Autres botanistes/Haller f/NEU000068413.JPG  \n",
            "  inflating: /content/data/herbier/data_neuchatel/Image Chaillet pour reconnaissance écriture/Autres botanistes/Haller f/NEU000076383.JPG  \n",
            "  inflating: /content/data/herbier/data_neuchatel/Image Chaillet pour reconnaissance écriture/Autres botanistes/Haller f/NEU000079225.JPG  \n",
            "  inflating: /content/data/herbier/data_neuchatel/Image Chaillet pour reconnaissance écriture/Autres botanistes/Haller f/NEU000085715.JPG  \n",
            "  inflating: /content/data/herbier/data_neuchatel/Image Chaillet pour reconnaissance écriture/Autres botanistes/Haller f/NEU000094310.JPG  \n",
            "   creating: /content/data/herbier/data_neuchatel/Image Chaillet pour reconnaissance écriture/Autres botanistes/Schleicher/\n",
            "  inflating: /content/data/herbier/data_neuchatel/Image Chaillet pour reconnaissance écriture/Autres botanistes/Schleicher/NEU000006783.JPG  \n",
            "  inflating: /content/data/herbier/data_neuchatel/Image Chaillet pour reconnaissance écriture/Autres botanistes/Schleicher/NEU000013982.JPG  \n",
            "  inflating: /content/data/herbier/data_neuchatel/Image Chaillet pour reconnaissance écriture/Autres botanistes/Schleicher/NEU000016239.jpg  \n",
            "  inflating: /content/data/herbier/data_neuchatel/Image Chaillet pour reconnaissance écriture/Autres botanistes/Schleicher/NEU000020499.jpg  \n",
            "  inflating: /content/data/herbier/data_neuchatel/Image Chaillet pour reconnaissance écriture/Autres botanistes/Schleicher/NEU000021790.jpg  \n",
            "  inflating: /content/data/herbier/data_neuchatel/Image Chaillet pour reconnaissance écriture/Autres botanistes/Schleicher/NEU000021792.jpg  \n",
            "  inflating: /content/data/herbier/data_neuchatel/Image Chaillet pour reconnaissance écriture/Autres botanistes/Schleicher/NEU000027968.jpg  \n",
            "  inflating: /content/data/herbier/data_neuchatel/Image Chaillet pour reconnaissance écriture/Autres botanistes/Schleicher/NEU000032345.jpg  \n",
            "  inflating: /content/data/herbier/data_neuchatel/Image Chaillet pour reconnaissance écriture/Autres botanistes/Schleicher/NEU000052116.JPG  \n",
            "  inflating: /content/data/herbier/data_neuchatel/Image Chaillet pour reconnaissance écriture/Autres botanistes/Schleicher/NEU000060912.JPG  \n",
            "  inflating: /content/data/herbier/data_neuchatel/Image Chaillet pour reconnaissance écriture/Autres botanistes/Schleicher/NEU000095015.JPG  \n",
            "  inflating: /content/data/herbier/data_neuchatel/Image Chaillet pour reconnaissance écriture/Autres botanistes/Schleicher/NEU000095360.JPG  \n",
            "  inflating: /content/data/herbier/data_neuchatel/Image Chaillet pour reconnaissance écriture/Autres botanistes/Schleicher/NEU000096070.JPG  \n",
            "  inflating: /content/data/herbier/data_neuchatel/Image Chaillet pour reconnaissance écriture/Autres botanistes/Schleicher/NEU000096081.JPG  \n",
            "   creating: /content/data/herbier/data_neuchatel/Image Chaillet pour reconnaissance écriture/Chaillet/\n",
            "  inflating: /content/data/herbier/data_neuchatel/Image Chaillet pour reconnaissance écriture/Chaillet/Herbier mention Chaillet Lyon LYJB010124.jpg  \n",
            "  inflating: /content/data/herbier/data_neuchatel/Image Chaillet pour reconnaissance écriture/Chaillet/NEU000003837.JPG  \n",
            "  inflating: /content/data/herbier/data_neuchatel/Image Chaillet pour reconnaissance écriture/Chaillet/NEU000003839.JPG  \n",
            "  inflating: /content/data/herbier/data_neuchatel/Image Chaillet pour reconnaissance écriture/Chaillet/NEU000003906.JPG  \n",
            "  inflating: /content/data/herbier/data_neuchatel/Image Chaillet pour reconnaissance écriture/Chaillet/NEU000004000.JPG  \n",
            "  inflating: /content/data/herbier/data_neuchatel/Image Chaillet pour reconnaissance écriture/Chaillet/NEU000004043.JPG  \n",
            "  inflating: /content/data/herbier/data_neuchatel/Image Chaillet pour reconnaissance écriture/Chaillet/NEU000004044.JPG  \n",
            "  inflating: /content/data/herbier/data_neuchatel/Image Chaillet pour reconnaissance écriture/Chaillet/NEU000004071.JPG  \n",
            "  inflating: /content/data/herbier/data_neuchatel/Image Chaillet pour reconnaissance écriture/Chaillet/NEU000004098.JPG  \n",
            "  inflating: /content/data/herbier/data_neuchatel/Image Chaillet pour reconnaissance écriture/Chaillet/NEU000004339.JPG  \n",
            "  inflating: /content/data/herbier/data_neuchatel/Image Chaillet pour reconnaissance écriture/Chaillet/NEU000004575.JPG  \n",
            "  inflating: /content/data/herbier/data_neuchatel/Image Chaillet pour reconnaissance écriture/Chaillet/NEU000004661.JPG  \n",
            "  inflating: /content/data/herbier/data_neuchatel/Image Chaillet pour reconnaissance écriture/Chaillet/NEU000004721.JPG  \n",
            "  inflating: /content/data/herbier/data_neuchatel/Image Chaillet pour reconnaissance écriture/Chaillet/NEU000006584.JPG  \n",
            "  inflating: /content/data/herbier/data_neuchatel/Image Chaillet pour reconnaissance écriture/Chaillet/NEU000007959.JPG  \n",
            "  inflating: /content/data/herbier/data_neuchatel/Image Chaillet pour reconnaissance écriture/Chaillet/NEU000008633.JPG  \n",
            "  inflating: /content/data/herbier/data_neuchatel/Image Chaillet pour reconnaissance écriture/Chaillet/NEU000026027.jpg  \n",
            "  inflating: /content/data/herbier/data_neuchatel/Image Chaillet pour reconnaissance écriture/Chaillet/NEU000026086.jpg  \n",
            "  inflating: /content/data/herbier/data_neuchatel/Image Chaillet pour reconnaissance écriture/Chaillet/NEU000033599.JPG  \n",
            "  inflating: /content/data/herbier/data_neuchatel/Image Chaillet pour reconnaissance écriture/Chaillet/NEU000037912.JPG  \n",
            "  inflating: /content/data/herbier/data_neuchatel/Image Chaillet pour reconnaissance écriture/Chaillet/NEU000048824.JPG  \n",
            "  inflating: /content/data/herbier/data_neuchatel/Image Chaillet pour reconnaissance écriture/Chaillet/NEU000049601.JPG  \n",
            "  inflating: /content/data/herbier/data_neuchatel/Image Chaillet pour reconnaissance écriture/Chaillet/NEU000052278.JPG  \n",
            "  inflating: /content/data/herbier/data_neuchatel/Image Chaillet pour reconnaissance écriture/Chaillet/NEU000056839.JPG  \n",
            "  inflating: /content/data/herbier/data_neuchatel/Image Chaillet pour reconnaissance écriture/Chaillet/NEU000058021.JPG  \n",
            "  inflating: /content/data/herbier/data_neuchatel/Image Chaillet pour reconnaissance écriture/Chaillet/NEU000062437.JPG  \n",
            "  inflating: /content/data/herbier/data_neuchatel/Image Chaillet pour reconnaissance écriture/Chaillet/NEU000064441.JPG  \n",
            "  inflating: /content/data/herbier/data_neuchatel/Image Chaillet pour reconnaissance écriture/Chaillet/NEU000078977.JPG  \n",
            "  inflating: /content/data/herbier/data_neuchatel/Image Chaillet pour reconnaissance écriture/Chaillet/NEU000082208.JPG  \n",
            "  inflating: /content/data/herbier/data_neuchatel/Image Chaillet pour reconnaissance écriture/Chaillet/NEU000094312.JPG  \n",
            "  inflating: /content/data/herbier/data_neuchatel/Image Chaillet pour reconnaissance écriture/Chaillet/NEU000096188.JPG  \n",
            "  inflating: /content/data/herbier/data_neuchatel/Image Chaillet pour reconnaissance écriture/Chaillet/NEU000106127.JPG  \n",
            "   creating: /content/data/herbier/data_neuchatel/Image Chaillet pour reconnaissance écriture/Douteux/\n",
            "  inflating: /content/data/herbier/data_neuchatel/Image Chaillet pour reconnaissance écriture/Douteux/NEU000005167.JPG  \n",
            "  inflating: /content/data/herbier/data_neuchatel/Image Chaillet pour reconnaissance écriture/Douteux/NEU000005482.JPG  \n",
            "  inflating: /content/data/herbier/data_neuchatel/Image Chaillet pour reconnaissance écriture/Douteux/NEU000005838.JPG  \n",
            "  inflating: /content/data/herbier/data_neuchatel/Image Chaillet pour reconnaissance écriture/Douteux/NEU000006169.JPG  \n",
            "  inflating: /content/data/herbier/data_neuchatel/Image Chaillet pour reconnaissance écriture/Douteux/NEU000006521.JPG  \n",
            "  inflating: /content/data/herbier/data_neuchatel/Image Chaillet pour reconnaissance écriture/Douteux/NEU000006719.JPG  \n",
            "  inflating: /content/data/herbier/data_neuchatel/Image Chaillet pour reconnaissance écriture/Douteux/NEU000007426.JPG  \n",
            "  inflating: /content/data/herbier/data_neuchatel/Image Chaillet pour reconnaissance écriture/Douteux/NEU000007757.JPG  \n",
            "  inflating: /content/data/herbier/data_neuchatel/Image Chaillet pour reconnaissance écriture/Douteux/NEU000007957.JPG  \n",
            "  inflating: /content/data/herbier/data_neuchatel/Image Chaillet pour reconnaissance écriture/Douteux/NEU000009337.JPG  \n",
            "  inflating: /content/data/herbier/data_neuchatel/Image Chaillet pour reconnaissance écriture/Douteux/NEU000009351.JPG  \n",
            "  inflating: /content/data/herbier/data_neuchatel/Image Chaillet pour reconnaissance écriture/Douteux/NEU000009531.JPG  \n",
            "  inflating: /content/data/herbier/data_neuchatel/Image Chaillet pour reconnaissance écriture/Douteux/NEU000009572.JPG  \n",
            "  inflating: /content/data/herbier/data_neuchatel/Image Chaillet pour reconnaissance écriture/Douteux/NEU000010114.JPG  \n",
            "  inflating: /content/data/herbier/data_neuchatel/Image Chaillet pour reconnaissance écriture/Douteux/NEU000010382.JPG  \n",
            "  inflating: /content/data/herbier/data_neuchatel/Image Chaillet pour reconnaissance écriture/Douteux/NEU000010762.JPG  \n",
            "  inflating: /content/data/herbier/data_neuchatel/Image Chaillet pour reconnaissance écriture/Douteux/NEU000012682.JPG  \n",
            "  inflating: /content/data/herbier/data_neuchatel/Image Chaillet pour reconnaissance écriture/Douteux/NEU000014599.JPG  \n",
            "  inflating: /content/data/herbier/data_neuchatel/Image Chaillet pour reconnaissance écriture/Douteux/NEU000014643.JPG  \n",
            "  inflating: /content/data/herbier/data_neuchatel/Image Chaillet pour reconnaissance écriture/Douteux/NEU000014644.JPG  \n",
            "  inflating: /content/data/herbier/data_neuchatel/Image Chaillet pour reconnaissance écriture/Douteux/NEU000016399.jpg  \n",
            "  inflating: /content/data/herbier/data_neuchatel/Image Chaillet pour reconnaissance écriture/Douteux/NEU000016519.JPG  \n",
            "  inflating: /content/data/herbier/data_neuchatel/Image Chaillet pour reconnaissance écriture/Douteux/NEU000022739.jpg  \n",
            "  inflating: /content/data/herbier/data_neuchatel/Image Chaillet pour reconnaissance écriture/Douteux/NEU000039474.JPG  \n",
            "  inflating: /content/data/herbier/data_neuchatel/Image Chaillet pour reconnaissance écriture/Douteux/NEU000048708.JPG  \n",
            "  inflating: /content/data/herbier/data_neuchatel/Image Chaillet pour reconnaissance écriture/Douteux/NEU000051306.JPG  \n",
            "  inflating: /content/data/herbier/data_neuchatel/Image Chaillet pour reconnaissance écriture/Douteux/NEU000059425.JPG  \n",
            "  inflating: /content/data/herbier/data_neuchatel/Image Chaillet pour reconnaissance écriture/Douteux/NEU000072614.JPG  \n",
            "  inflating: /content/data/herbier/data_neuchatel/Image Chaillet pour reconnaissance écriture/Douteux/NEU000074657.JPG  \n",
            "  inflating: /content/data/herbier/data_neuchatel/Image Chaillet pour reconnaissance écriture/Douteux/NEU000075459.JPG  \n",
            " extracting: /content/data/herbier/data_neuchatel/Image Chaillet pour reconnaissance écriture.zip  \n",
            "   creating: /content/data/herbier/data_public/\n",
            "   creating: /content/data/herbier/data_public/ascii/\n",
            "  inflating: /content/data/herbier/data_public/ascii/forms.txt  \n",
            "  inflating: /content/data/herbier/data_public/ascii/lines.txt  \n",
            "  inflating: /content/data/herbier/data_public/ascii/sentences.txt  \n",
            "  inflating: /content/data/herbier/data_public/ascii/words.txt  \n",
            " extracting: /content/data/herbier/data_public/ascii.tgz  \n",
            " extracting: /content/data/herbier/data_public/formsA-D.tgz  \n",
            " extracting: /content/data/herbier/data_public/formsE-H.tgz  \n",
            " extracting: /content/data/herbier/data_public/formsI-Z.tgz  \n",
            " extracting: /content/data/herbier/data_public/lines.tgz  \n",
            " extracting: /content/data/herbier/data_public/parzivaldb-v1.0.zip  \n",
            " extracting: /content/data/herbier/data_public/saintgalldb-v1.0.zip  \n",
            " extracting: /content/data/herbier/data_public/sentences.tgz  \n",
            "  inflating: /content/data/herbier/data_public/sources  \n",
            " extracting: /content/data/herbier/data_public/washingtondb-v1.0.zip  \n",
            " extracting: /content/data/herbier/data_public/words.tgz  \n",
            " extracting: /content/data/herbier/data_public/xml.tgz  \n"
          ]
        }
      ],
      "source": [
        "!mkdir \"/content/data/\"\n",
        "!unzip \"{GDRIVE_PATH}/herbier.zip\" -d \"/content/data/\""
      ]
    },
    {
      "cell_type": "code",
      "execution_count": 6,
      "metadata": {
        "colab": {
          "base_uri": "https://localhost:8080/"
        },
        "id": "ut5d6GesL8pI",
        "outputId": "ae788bf6-734f-461d-f36f-cc075d677157"
      },
      "outputs": [
        {
          "output_type": "stream",
          "name": "stdout",
          "text": [
            "['formsI-Z.tgz', 'xml.tgz', 'formsA-D.tgz', 'saintgalldb-v1.0.zip', 'formsE-H.tgz', 'words.tgz', 'sources', 'ascii', 'washingtondb-v1.0.zip', 'parzivaldb-v1.0.zip', 'sentences.tgz', 'ascii.tgz', 'lines.tgz']\n",
            "['Image Chaillet pour reconnaissance écriture', 'Image Chaillet pour reconnaissance écriture.zip']\n"
          ]
        }
      ],
      "source": [
        "data_public = os.listdir('/content/data/herbier/data_public')\n",
        "data_neuchatel = os.listdir('/content/data/herbier/data_neuchatel')\n",
        "print(data_public)\n",
        "print(data_neuchatel)"
      ]
    }
  ],
  "metadata": {
    "colab": {
      "provenance": []
    },
    "kernelspec": {
      "display_name": "Python 3",
      "name": "python3"
    },
    "language_info": {
      "name": "python"
    }
  },
  "nbformat": 4,
  "nbformat_minor": 0
}